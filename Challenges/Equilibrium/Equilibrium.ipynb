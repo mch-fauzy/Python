{
  "nbformat": 4,
  "nbformat_minor": 0,
  "metadata": {
    "colab": {
      "name": "Equilibrium.ipynb",
      "provenance": [],
      "collapsed_sections": []
    },
    "kernelspec": {
      "name": "python3",
      "display_name": "Python 3"
    }
  },
  "cells": [
    {
      "cell_type": "markdown",
      "metadata": {
        "id": "1Ocw8tvJ6ISC"
      },
      "source": [
        "\r\n",
        "\r\n",
        "This is a challenge demo task (Medium Level).\r\n",
        "\r\n",
        "An `array` A consisting of `N integers` is given. An equilibrium index of this array is `any integer P` such that `0 ≤ P < N` and the `sum of elements of lower indices is equal to the sum of elements of higher indices`, i.e.\r\n",
        "\r\n",
        "    A[0] + A[1] + ... + A[P−1] = A[P+1] + ... + A[N−2] + A[N−1].\r\n",
        "\r\n",
        "Sum of zero elements is assumed to be equal to 0. This can happen if P = 0 or if P = N−1.\r\n",
        "\r\n",
        "For example, consider the following array A consisting of N = 8 elements:\r\n",
        "  A[0] = -1\r\n",
        "  A[1] =  3\r\n",
        "  A[2] = -4\r\n",
        "  A[3] =  5\r\n",
        "  A[4] =  1\r\n",
        "  A[5] = -6\r\n",
        "  A[6] =  2\r\n",
        "  A[7] =  1\r\n",
        "\r\n",
        "P = 1 is an equilibrium index of this array, because:\r\n",
        "\r\n",
        "        A[0] = −1 = A[2] + A[3] + A[4] + A[5] + A[6] + A[7]\r\n",
        "\r\n",
        "P = 3 is an equilibrium index of this array, because:\r\n",
        "\r\n",
        "        A[0] + A[1] + A[2] = −2 = A[4] + A[5] + A[6] + A[7]\r\n",
        "\r\n",
        "P = 7 is also an equilibrium index, because:\r\n",
        "\r\n",
        "        A[0] + A[1] + A[2] + A[3] + A[4] + A[5] + A[6] = 0\r\n",
        "\r\n",
        "and there are no elements with indices greater than 7.\r\n",
        "\r\n",
        "P = 8 is not an equilibrium index, because it does not fulfill the condition 0 ≤ P < N.\r\n",
        "\r\n",
        "Write a function:\r\n",
        "\r\n",
        "    def solution(A)\r\n",
        "\r\n",
        "that, given an array A consisting of N integers, returns any of its equilibrium indices. The `function` should `return −1` if `no equilibrium index` exists.\r\n",
        "\r\n",
        "For example, given array A shown above, the `function` may return 1, 3 or 7, as explained above.\r\n",
        "\r\n",
        "Write an efficient algorithm for the following assumptions:\r\n",
        "\r\n",
        "        N is an integer within the range [0..100,000];\r\n",
        "        each element of array A is an integer within the range [−2,147,483,648..2,147,483,647].\r\n",
        "\r\n"
      ]
    },
    {
      "cell_type": "code",
      "metadata": {
        "id": "rqbGjPST4p-Y"
      },
      "source": [
        "# you can write to stdout for debugging purposes, e.g.\r\n",
        "# print(\"this is a debug message\")\r\n",
        "\r\n",
        "def solution(A):\r\n",
        "\r\n",
        "  # If no value in list\r\n",
        "  if len(A) == 0:\r\n",
        "    return -1\r\n",
        "  \r\n",
        "  # Looping through list\r\n",
        "  for i in range(0, len(A)):\r\n",
        "    sum_left=0\r\n",
        "    sum_right=0\r\n",
        "    \r\n",
        "    # Looping through i\r\n",
        "    for j in range(0, i):\r\n",
        "      sum_left += A[j]\r\n",
        "    for j in range(i+1, len(A)):\r\n",
        "      sum_right += A[j]\r\n",
        "            \r\n",
        "    if sum_left == sum_right:\r\n",
        "      return i # Index where sum_left equal to sum_right\r\n",
        "  # If out of indeces 0 <= P < N\r\n",
        "  return -1"
      ],
      "execution_count": 7,
      "outputs": []
    },
    {
      "cell_type": "code",
      "metadata": {
        "colab": {
          "base_uri": "https://localhost:8080/"
        },
        "id": "fxmf2jaiKv_g",
        "outputId": "492bbd11-89d2-4d57-ca75-dab820852326"
      },
      "source": [
        "test = [-1, 3, -4, 5, 1, -6, 2, 1]\r\n",
        "print(solution(test))"
      ],
      "execution_count": 8,
      "outputs": [
        {
          "output_type": "stream",
          "text": [
            "1\n"
          ],
          "name": "stdout"
        }
      ]
    }
  ]
}