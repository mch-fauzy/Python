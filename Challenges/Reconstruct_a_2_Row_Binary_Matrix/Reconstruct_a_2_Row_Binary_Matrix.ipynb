{
  "nbformat": 4,
  "nbformat_minor": 0,
  "metadata": {
    "colab": {
      "name": "Reconstruct_a_2_Row_Binary_Matrix.ipynb",
      "provenance": [],
      "collapsed_sections": []
    },
    "kernelspec": {
      "name": "python3",
      "display_name": "Python 3"
    }
  },
  "cells": [
    {
      "cell_type": "markdown",
      "metadata": {
        "id": "gHXIeM43iYhA"
      },
      "source": [
        "# Python Test : Reconstruct a 2-Row Binary Matrix"
      ]
    },
    {
      "cell_type": "markdown",
      "metadata": {
        "id": "zon6n2Qqi1up"
      },
      "source": [
        "Given the following details of a matrix with n columns and 2 rows :\r\n",
        "\r\n",
        "The matrix is a binary matrix, which means each element in the matrix can be 0 or 1.\r\n",
        "\r\n",
        "    The sum of elements of the 0-th(upper) row is given as upper.\r\n",
        "    The sum of elements of the 1-st(lower) row is given as lower.\r\n",
        "    The sum of elements in the i-th column(0-indexed) is colsum[i], where colsum is given as an integer array with length n.\r\n",
        "\r\n",
        "Your task is to reconstruct the matrix with upper, lower and colsum.\r\n",
        "\r\n",
        "    Return it as a 2-D integer array.\r\n",
        "\r\n",
        "If there are more than one valid solution, any of them will be accepted.\r\n",
        "\r\n",
        "    If no valid solution exists, return an empty 2-D array.\r\n",
        "\r\n",
        " \r\n",
        "\r\n",
        "Example 1:\r\n",
        "\r\n",
        "    Input: upper = 2, lower = 1, colsum = [1,1,1]\r\n",
        "    Output: [[1,1,0],[0,0,1]]\r\n",
        "    Explanation: [[1,0,1],[0,1,0]], and [[0,1,1],[1,0,0]] are also correct answers.\r\n",
        "  Example 2:\r\n",
        "\r\n",
        "    Input: upper = 2, lower = 3, colsum = [2,2,1,1]\r\n",
        "    Output: []\r\n",
        "Example 3:\r\n",
        "\r\n",
        "    Input: upper = 5, lower = 5, colsum = [2,1,2,0,1,0,1,2,0,1]\r\n",
        "    Output: [[1,1,1,0,1,0,0,1,0,0],[1,0,1,0,0,0,1,1,0,1]]\r\n",
        " \r\n",
        "\r\n",
        "Constraints:\r\n",
        "\r\n",
        "    1 <= colsum.length <= 10^5\r\n",
        "    0 <= upper, lower <= colsum.length\r\n",
        "    0 <= colsum[i] <= 2"
      ]
    },
    {
      "cell_type": "code",
      "metadata": {
        "id": "JEBiAHXEkF-o"
      },
      "source": [
        "def reconstructMatrix(upper,lower,colsum):\r\n",
        "  # add list with value of 0 -> [0,0,0,....]\r\n",
        "  upper_list = [0 for _ in range(len(colsum))] \r\n",
        "  lower_list = [0 for _ in range(len(colsum))]\r\n",
        "\r\n",
        "  # loop index and value from colsum\r\n",
        "  for index, value in enumerate(colsum):\r\n",
        "    #print(index)\r\n",
        "    if value == 1:\r\n",
        "      # If upper > lower, then change upper_list\r\n",
        "      if upper > lower:\r\n",
        "        upper_list[index] = 1\r\n",
        "        # Decrease the upper value\r\n",
        "        upper -= 1\r\n",
        "      # If not, then change lower_list\r\n",
        "      else:\r\n",
        "        lower_list[index] = 1\r\n",
        "        # Decrease the lower value\r\n",
        "        lower -= 1\r\n",
        "\r\n",
        "    elif value == 2:\r\n",
        "      upper_list[index] = lower_list[index] = 1\r\n",
        "      upper, lower = upper - 1, lower - 1\r\n",
        "\r\n",
        "  if upper == 0 and lower == 0:\r\n",
        "    return [upper_list, lower_list]\r\n",
        "  else:\r\n",
        "    return []"
      ],
      "execution_count": 14,
      "outputs": []
    },
    {
      "cell_type": "code",
      "metadata": {
        "colab": {
          "base_uri": "https://localhost:8080/"
        },
        "id": "kgaion81jhUd",
        "outputId": "1d937565-0357-4144-a6fd-3cd9eb8b744a"
      },
      "source": [
        "print(reconstructMatrix(2, 1, [1,1,1]))"
      ],
      "execution_count": 15,
      "outputs": [
        {
          "output_type": "stream",
          "text": [
            "[[1, 0, 1], [0, 1, 0]]\n"
          ],
          "name": "stdout"
        }
      ]
    },
    {
      "cell_type": "code",
      "metadata": {
        "colab": {
          "base_uri": "https://localhost:8080/"
        },
        "id": "lo2p85kSmrLA",
        "outputId": "9596d0fb-9a47-4ea7-c350-b63868eb8550"
      },
      "source": [
        "print(reconstructMatrix(2, 3, [2,2,1,1]))"
      ],
      "execution_count": 16,
      "outputs": [
        {
          "output_type": "stream",
          "text": [
            "[]\n"
          ],
          "name": "stdout"
        }
      ]
    },
    {
      "cell_type": "code",
      "metadata": {
        "colab": {
          "base_uri": "https://localhost:8080/"
        },
        "id": "kruW5X1YmhBS",
        "outputId": "e32044fb-6499-40fd-96e2-08b57c3dfc83"
      },
      "source": [
        "print(reconstructMatrix(5, 5, [2,1,2,0,1,0,1,2,0,1]))"
      ],
      "execution_count": 17,
      "outputs": [
        {
          "output_type": "stream",
          "text": [
            "[[1, 0, 1, 0, 1, 0, 0, 1, 0, 1], [1, 1, 1, 0, 0, 0, 1, 1, 0, 0]]\n"
          ],
          "name": "stdout"
        }
      ]
    }
  ]
}