{
  "nbformat": 4,
  "nbformat_minor": 0,
  "metadata": {
    "colab": {
      "name": "Palindromes_Permutation.ipynb",
      "provenance": [],
      "collapsed_sections": []
    },
    "kernelspec": {
      "name": "python3",
      "display_name": "Python 3"
    }
  },
  "cells": [
    {
      "cell_type": "markdown",
      "metadata": {
        "id": "k-mGIT8BkKMJ"
      },
      "source": [
        "Palindrome is a `word` or `phrase` that is the\r\n",
        "same `forwards` and `backwards`\r\n",
        "\r\n",
        "Palindrome Permutation: \r\n",
        "\r\n",
        "    Given a string, write a function to check if it is a \r\n",
        "    permutation of a palindrome (Has no more than 1 odd letter). \r\n",
        "\r\n",
        "\r\n",
        "A permutation is a `rearrangement` of\r\n",
        "`letters`. The palindrome does not need\r\n",
        "to be limited to just dictionary words."
      ]
    },
    {
      "cell_type": "code",
      "metadata": {
        "id": "1J2XZDxHkAOR"
      },
      "source": [
        "class Solution():\r\n",
        "    # Check if the word can be a Palindrome or Not (If have more than 1 odd letter then it cant be palindrome)\r\n",
        "    def canPermutePalindrome(self, s):\r\n",
        "        # convert to lower case and Replace spaces ' ' with no spaces ''\r\n",
        "        s = s.lower().replace(' ','')\r\n",
        "        letter_ctr = {} # To store letter count\r\n",
        "        odd_ctr = 0\r\n",
        "\r\n",
        "        # Loop to count the letter\r\n",
        "        for letter in s:\r\n",
        "            # If already has the letter, then increment it\r\n",
        "            if letter in letter_ctr:\r\n",
        "                letter_ctr[letter] += 1\r\n",
        "            else:\r\n",
        "                letter_ctr[letter] = 1\r\n",
        "\r\n",
        "        for letter in letter_ctr:\r\n",
        "            # If not 0 (odd) then go to this statement\r\n",
        "            if letter_ctr[letter] % 2 != 0:\r\n",
        "                odd_ctr += 1\r\n",
        "        return odd_ctr <= 1 # True if odd_ctr less than 2\r\n",
        "    \r\n",
        "    def is_itPalindrome(self, s):\r\n",
        "        s = s.lower().replace(' ','')\r\n",
        "        return s == s[::-1]"
      ],
      "execution_count": 8,
      "outputs": []
    },
    {
      "cell_type": "code",
      "metadata": {
        "colab": {
          "base_uri": "https://localhost:8080/"
        },
        "id": "zclTCtLKk8qG",
        "outputId": "f894888e-1f55-4f59-993d-9af16337afde"
      },
      "source": [
        "check = Solution()\r\n",
        "# Can it be a Palindrome?\r\n",
        "print(check.canPermutePalindrome('saasr'))"
      ],
      "execution_count": 9,
      "outputs": [
        {
          "output_type": "stream",
          "text": [
            "True\n"
          ],
          "name": "stdout"
        }
      ]
    },
    {
      "cell_type": "code",
      "metadata": {
        "colab": {
          "base_uri": "https://localhost:8080/"
        },
        "id": "Jrcj_kJEqJmw",
        "outputId": "daa49ece-1bae-4cb9-feee-b01cac503cd1"
      },
      "source": [
        "# Is it Palindrome?\r\n",
        "print(check.is_itPalindrome('nurses run'))"
      ],
      "execution_count": 10,
      "outputs": [
        {
          "output_type": "stream",
          "text": [
            "True\n"
          ],
          "name": "stdout"
        }
      ]
    }
  ]
}