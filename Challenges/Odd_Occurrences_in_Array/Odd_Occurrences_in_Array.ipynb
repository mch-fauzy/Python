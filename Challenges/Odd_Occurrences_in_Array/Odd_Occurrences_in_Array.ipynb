{
  "nbformat": 4,
  "nbformat_minor": 0,
  "metadata": {
    "colab": {
      "name": " Odd_Occurrences_in_Array.ipynb",
      "provenance": [],
      "collapsed_sections": []
    },
    "kernelspec": {
      "name": "python3",
      "display_name": "Python 3"
    }
  },
  "cells": [
    {
      "cell_type": "markdown",
      "metadata": {
        "id": "2TQQAV6Z3ph0"
      },
      "source": [
        "\r\n",
        "\r\n",
        "A non-empty `array` A consisting of `N integers` is given. The `array` `contains` an `odd number of elements`, and `each element` of the array can be `paired` with `another element` that has the `same value`, `except` for `one element` that is left `unpaired`.\r\n",
        "\r\n",
        "For example, in array A such that:\r\n",
        "\r\n",
        "      A[0] = 9  A[1] = 3  A[2] = 9\r\n",
        "      A[3] = 3  A[4] = 9  A[5] = 7\r\n",
        "      A[6] = 9\r\n",
        "\r\n",
        "\r\n",
        "      the elements at indexes 0 and 2 have value 9,\r\n",
        "      the elements at indexes 1 and 3 have value 3,\r\n",
        "      the elements at indexes 4 and 6 have value 9,\r\n",
        "      the element at index 5 has value 7 and is unpaired.\r\n",
        "\r\n",
        "Write a function:\r\n",
        "\r\n",
        "    def solution(A)\r\n",
        "\r\n",
        "that, given an array A consisting of N integers fulfilling the above conditions, `returns` the value of the `unpaired` element.\r\n",
        "\r\n",
        "For example, given array A such that:\r\n",
        "\r\n",
        "    A[0] = 9  A[1] = 3  A[2] = 9\r\n",
        "    A[3] = 3  A[4] = 9  A[5] = 7\r\n",
        "    A[6] = 9\r\n",
        "\r\n",
        "the `function` should `return 7`, as explained in the example above.\r\n",
        "\r\n",
        "Write an efficient algorithm for the following assumptions:\r\n",
        "\r\n",
        "        N is an odd integer within the range [1..1,000,000];\r\n",
        "        each element of array A is an integer within the range [1..1,000,000,000];\r\n",
        "        all but one of the values in A occur an even number of times.\r\n",
        "\r\n"
      ]
    },
    {
      "cell_type": "markdown",
      "metadata": {
        "id": "PQ7MZfuh4JRz"
      },
      "source": [
        "The `length` of array is `always odd`\r\n",
        "\r\n",
        "**TASK :**\r\n",
        "\r\n",
        "returns the value of the unpaired element"
      ]
    },
    {
      "cell_type": "code",
      "metadata": {
        "id": "UfYC-x1Pi2i4"
      },
      "source": [
        "# Return the value of the unpaired element\r\n",
        "def solution(A):\r\n",
        "  #The length of array is always ODD\r\n",
        "  if len(A) == 1:\r\n",
        "    return A[0]\r\n",
        "\r\n",
        "  sorted_arr = sorted(A)\r\n",
        "  unpaired = None\r\n",
        "  print(sorted_arr)\r\n",
        "  for i in range(len(sorted_arr) - 1):\r\n",
        "    if i % 2 == 0: # Ambil index genap saja\r\n",
        "      #print(i)\r\n",
        "      #If the value is not match, then\r\n",
        "      if sorted_arr[i] != sorted_arr[i+1]:  \r\n",
        "        unpaired = sorted_arr[i]\r\n",
        "        return unpaired\r\n",
        "      else:\r\n",
        "        continue\r\n",
        "\r\n",
        "  # If no unpaired detected, then the last value of array is unpaired\r\n",
        "  if unpaired == None:\r\n",
        "    return sorted_arr[-1]"
      ],
      "execution_count": 30,
      "outputs": []
    },
    {
      "cell_type": "code",
      "metadata": {
        "colab": {
          "base_uri": "https://localhost:8080/"
        },
        "id": "nrVidWkFi2jL",
        "outputId": "89017756-8411-4e58-80ec-d0af277cf947"
      },
      "source": [
        "print(solution([3,3,3,9,3,9,10]))"
      ],
      "execution_count": 27,
      "outputs": [
        {
          "output_type": "stream",
          "text": [
            "[3, 3, 3, 3, 9, 9, 10]\n",
            "10\n"
          ],
          "name": "stdout"
        }
      ]
    },
    {
      "cell_type": "code",
      "metadata": {
        "colab": {
          "base_uri": "https://localhost:8080/"
        },
        "id": "UOsw125Qi2jN",
        "outputId": "b5952462-ecce-4e43-972e-1a42c8c11211"
      },
      "source": [
        "print(solution([9,3,9,3,9,7,9]))"
      ],
      "execution_count": 21,
      "outputs": [
        {
          "output_type": "stream",
          "text": [
            "[3, 3, 7, 9, 9, 9, 9]\n",
            "7\n"
          ],
          "name": "stdout"
        }
      ]
    },
    {
      "cell_type": "code",
      "metadata": {
        "colab": {
          "base_uri": "https://localhost:8080/"
        },
        "id": "nKqCiDTRi2jO",
        "outputId": "c0a3bc5a-04cd-40d4-967a-13d0db008cab"
      },
      "source": [
        "print(solution([9,3,9,7,9,7,9]))"
      ],
      "execution_count": 22,
      "outputs": [
        {
          "output_type": "stream",
          "text": [
            "[3, 7, 7, 9, 9, 9, 9]\n",
            "3\n"
          ],
          "name": "stdout"
        }
      ]
    },
    {
      "cell_type": "code",
      "metadata": {
        "colab": {
          "base_uri": "https://localhost:8080/"
        },
        "id": "NyPQXa0VpCAj",
        "outputId": "f50fe480-4fff-41e2-d8c4-ed4501038628"
      },
      "source": [
        "print(solution([2,3,4,5,3,2,4,5,7]))"
      ],
      "execution_count": 29,
      "outputs": [
        {
          "output_type": "stream",
          "text": [
            "[2, 2, 3, 3, 4, 4, 5, 5, 7]\n",
            "7\n"
          ],
          "name": "stdout"
        }
      ]
    }
  ]
}