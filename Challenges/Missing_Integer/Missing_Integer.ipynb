{
  "nbformat": 4,
  "nbformat_minor": 0,
  "metadata": {
    "colab": {
      "name": "Missing_Integer.ipynb",
      "provenance": [],
      "collapsed_sections": []
    },
    "kernelspec": {
      "name": "python3",
      "display_name": "Python 3"
    }
  },
  "cells": [
    {
      "cell_type": "markdown",
      "metadata": {
        "id": "G7iMrw1c3Le8"
      },
      "source": [
        "\r\n",
        "\r\n",
        "This is a challenge demo task (Medium Level).\r\n",
        "\r\n",
        "Write a function:\r\n",
        "\r\n",
        "    def solution(A)\r\n",
        "\r\n",
        "that, given an array A of N integers, returns the smallest positive integer (greater than 0) that does not occur in A.\r\n",
        "\r\n",
        "For example, given A = [1, 3, 6, 4, 1, 2], the function should return 5.\r\n",
        "\r\n",
        "Given A = [1, 2, 3], the function should return 4.\r\n",
        "\r\n",
        "Given A = [−1, −3], the function should return 1.\r\n",
        "\r\n",
        "Write an efficient algorithm for the following assumptions:\r\n",
        "\r\n",
        "        N is an integer within the range [1..100,000];\r\n",
        "        each element of array A is an integer within the range [−1,000,000..1,000,000].\r\n",
        "\r\n"
      ]
    },
    {
      "cell_type": "code",
      "metadata": {
        "id": "_biRuNEq288n"
      },
      "source": [
        "# you can write to stdout for debugging purposes, e.g.\r\n",
        "# print(\"this is a debug message\")\r\n",
        "\r\n",
        "def solution(A):\r\n",
        "    unique_el = set(sorted(A)) #sorted the list and take unique value only\r\n",
        "    print(unique_el)\r\n",
        "    default = 1 #default smallest positive integer\r\n",
        "    for val in unique_el:\r\n",
        "        if val == default:\r\n",
        "            default += 1\r\n",
        "    return default"
      ],
      "execution_count": null,
      "outputs": []
    },
    {
      "cell_type": "code",
      "metadata": {
        "colab": {
          "base_uri": "https://localhost:8080/"
        },
        "id": "PSwiiCbd3xzu",
        "outputId": "500856ab-0fcc-43fa-9249-5f53b15d20c1"
      },
      "source": [
        "print(solution([1, 3, 6, 4, 1, 2]))"
      ],
      "execution_count": null,
      "outputs": [
        {
          "output_type": "stream",
          "text": [
            "{1, 2, 3, 4, 6}\n",
            "5\n"
          ],
          "name": "stdout"
        }
      ]
    },
    {
      "cell_type": "code",
      "metadata": {
        "colab": {
          "base_uri": "https://localhost:8080/"
        },
        "id": "sSyH0n7E4S8V",
        "outputId": "c14efcc9-912b-4406-bba9-28af00b3f73d"
      },
      "source": [
        "print(solution([1, 2, 3]))"
      ],
      "execution_count": null,
      "outputs": [
        {
          "output_type": "stream",
          "text": [
            "{1, 2, 3}\n",
            "4\n"
          ],
          "name": "stdout"
        }
      ]
    },
    {
      "cell_type": "code",
      "metadata": {
        "colab": {
          "base_uri": "https://localhost:8080/"
        },
        "id": "2fJVUwr04Yh2",
        "outputId": "03d210a2-44d1-46f2-ee85-b64a2adc6153"
      },
      "source": [
        "print(solution([-1, -5, -3]))"
      ],
      "execution_count": null,
      "outputs": [
        {
          "output_type": "stream",
          "text": [
            "{-5, -3, -1}\n",
            "1\n"
          ],
          "name": "stdout"
        }
      ]
    }
  ]
}