{
  "nbformat": 4,
  "nbformat_minor": 0,
  "metadata": {
    "colab": {
      "name": "Count_Primes_Number.ipynb",
      "provenance": [],
      "collapsed_sections": []
    },
    "kernelspec": {
      "name": "python3",
      "display_name": "Python 3"
    }
  },
  "cells": [
    {
      "cell_type": "markdown",
      "metadata": {
        "id": "esJ61JYQHPvK"
      },
      "source": [
        "#### Count Primes\n",
        "Write a `function` that returns the `*number* of prime numbers` that `exist up to` and `including a given number`\n",
        "\n",
        "    count_primes(100) --> 25\n",
        "\n",
        "By convention, 0 and 1 are not prime."
      ]
    },
    {
      "cell_type": "markdown",
      "metadata": {
        "id": "dRwLZYsBfzE3"
      },
      "source": [
        "In math, prime numbers are whole numbers greater than 1, that have only two factors – 1 and the number itself.\r\n",
        "\r\n",
        "`Prime numbers` are `divisible` only by the number 1 or itself.  "
      ]
    },
    {
      "cell_type": "code",
      "metadata": {
        "id": "m1naXvJy8kia"
      },
      "source": [
        "def count_primes(num):\r\n",
        "  # Counter\r\n",
        "  count = 0\r\n",
        "\r\n",
        "  # List of Primes Number\r\n",
        "  primes = []\r\n",
        "\r\n",
        "  # Looping Angka yang akan dibagi\r\n",
        "  for number in range(num + 1):\r\n",
        "    # Jika number kurang dari 2, go to the next number (0 dan 1 bukan bil. prima)\r\n",
        "    if number <= 1:\r\n",
        "      continue\r\n",
        "\r\n",
        "    # Looping Pembagi\r\n",
        "    for pembagi in range(2, number):\r\n",
        "      \r\n",
        "      # Uji Prime Number\r\n",
        "      # Bil. Prima adalah suatu angka jika dibagi dengan angka SELAIN 1 DAN angka-itu sendiri BERSISA 0\r\n",
        "      # 9 % 3 = 0 (sisa 0) maka bukan bil. prima\r\n",
        "      if (number % pembagi) == 0:\r\n",
        "        break\r\n",
        "\r\n",
        "    # If loops end (not break or continue), go to this statement\r\n",
        "    else:\r\n",
        "      primes.append(number)\r\n",
        "      count += 1\r\n",
        "\r\n",
        "  print(primes)\r\n",
        "  return count"
      ],
      "execution_count": null,
      "outputs": []
    },
    {
      "cell_type": "code",
      "metadata": {
        "id": "mWCwW_uKHPvL",
        "colab": {
          "base_uri": "https://localhost:8080/"
        },
        "outputId": "a9705f8b-7ebf-426e-80b8-1d86e2aec3a2"
      },
      "source": [
        "# Check\n",
        "print(count_primes(25))"
      ],
      "execution_count": null,
      "outputs": [
        {
          "output_type": "stream",
          "text": [
            "[2, 3, 5, 7, 11, 13, 17, 19, 23]\n",
            "9\n"
          ],
          "name": "stdout"
        }
      ]
    }
  ]
}