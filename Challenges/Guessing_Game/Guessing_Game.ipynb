{
  "nbformat": 4,
  "nbformat_minor": 0,
  "metadata": {
    "kernelspec": {
      "display_name": "Python 3",
      "language": "python",
      "name": "python3"
    },
    "language_info": {
      "codemirror_mode": {
        "name": "ipython",
        "version": 3
      },
      "file_extension": ".py",
      "mimetype": "text/x-python",
      "name": "python",
      "nbconvert_exporter": "python",
      "pygments_lexer": "ipython3",
      "version": "3.6.6"
    },
    "colab": {
      "name": "Guessing Game.ipynb",
      "provenance": [],
      "collapsed_sections": []
    }
  },
  "cells": [
    {
      "cell_type": "markdown",
      "metadata": {
        "id": "IPfr6vwKtL-P"
      },
      "source": [
        "# Guessing Game Challenge\n",
        "\n",
        "Let's use `while` loops to create a guessing game.\n",
        "\n",
        "The Challenge:\n",
        "\n",
        "Write a program that picks a random integer from 1 to 100, and has players guess the number. The rules are:\n",
        "\n",
        "1. If a player's guess is less than 1 or greater than 100, say \"OUT OF BOUNDS\"\n",
        "2. On a player's first turn, if their guess is\n",
        " * within 10 of the number, return \"WARM!\"\n",
        " * further than 10 away from the number, return \"COLD!\"\n",
        "3. On all subsequent turns, if a guess is \n",
        " * closer to the number than the previous guess return \"WARMER!\"\n",
        " * farther from the number than the previous guess, return \"COLDER!\"\n",
        "4. When the player's guess equals the number, tell them they've guessed correctly *and* how many guesses it took!\n",
        "\n"
      ]
    },
    {
      "cell_type": "code",
      "metadata": {
        "collapsed": true,
        "id": "uV76gMrKtL-V",
        "colab": {
          "base_uri": "https://localhost:8080/"
        },
        "outputId": "ca359552-3be1-4ea5-9a04-9325df4b5622"
      },
      "source": [
        "print(\"I'm thinking of a number between 1 and 100\")\r\n",
        "print(\"If your guess is more than 10 away from my number, I'll tell you you're COLD\")\r\n",
        "print(\"If your guess is within 10 of my number, I'll tell you you're WARM\")\r\n",
        "print(\"If your guess is farther than your most recent guess, I'll say you're getting COLDER\")\r\n",
        "print(\"If your guess is closer than your most recent guess, I'll say you're getting WARMER\")"
      ],
      "execution_count": 1,
      "outputs": [
        {
          "output_type": "stream",
          "text": [
            "I'm thinking of a number between 1 and 100\n",
            "If your guess is more than 10 away from my number, I'll tell you you're COLD\n",
            "If your guess is within 10 of my number, I'll tell you you're WARM\n",
            "If your guess is farther than your most recent guess, I'll say you're getting COLDER\n",
            "If your guess is closer than your most recent guess, I'll say you're getting WARMER\n"
          ],
          "name": "stdout"
        }
      ]
    },
    {
      "cell_type": "code",
      "metadata": {
        "id": "h0evplUfMSI6"
      },
      "source": [
        "from random import randint\r\n",
        "correct_number = randint(1,100)"
      ],
      "execution_count": 2,
      "outputs": []
    },
    {
      "cell_type": "code",
      "metadata": {
        "collapsed": true,
        "id": "CwF8hSDGtL-e",
        "colab": {
          "base_uri": "https://localhost:8080/"
        },
        "outputId": "a7a294e9-a8e7-4f1e-f36a-90aafa030d8c"
      },
      "source": [
        "# list to save guesses\n",
        "my_guesses = []\n",
        "\n",
        "while True:\n",
        "  pick_a_number = int(input('Please guess a number between 1 and 100: '))\n",
        "  if pick_a_number < 1 or pick_a_number > 100:\n",
        "    print('Error, your number is not between 1 and 100')\n",
        "    # Back to the beginning of the loop\n",
        "    continue\n",
        "  \n",
        "  # Add guess to the list\n",
        "  my_guesses.append(pick_a_number)\n",
        "  \n",
        "  # First guess and corrent\n",
        "  if pick_a_number == correct_number and len(my_guesses) == 1:\n",
        "    print(f'Congratulation, you guessed it in only {len(my_guesses)} guess')\n",
        "    break\n",
        "  # Correct but more than 1 guesses\n",
        "  elif pick_a_number == correct_number:\n",
        "    print(f'\\nCongratulation, you guessed it in {len(my_guesses)} guesses')\n",
        "    break\n",
        "  \n",
        "  # First guess but not correct\n",
        "  if len(my_guesses) == 1:\n",
        "    # Jika abs(Nilai Benar - First Guess) dengan selisih kurang dari / sama dengan 10 maka WARM (Dekat dengan Nilai Benar)\n",
        "    if abs(correct_number - my_guesses[0]) <= 10:\n",
        "      print('WARM')\n",
        "    # Sebaliknya\n",
        "    else:\n",
        "      print('COLD')\n",
        "  # More than 1 guess\n",
        "  else:\n",
        "    # Jika abs(Nilai Benar - Current Guess) lebih kecil dari abs(Nilai Benar - Previous Guess) maka WARMER (Mendekati Nilai Benar)\n",
        "    if abs(correct_number - my_guesses[-1]) < abs(correct_number - my_guesses[-2]):\n",
        "      print('WARMER')\n",
        "    # Sebaliknya\n",
        "    else:\n",
        "      print('COLDER')"
      ],
      "execution_count": 3,
      "outputs": [
        {
          "output_type": "stream",
          "text": [
            "Please guess a number between 1 and 100: 50\n",
            "WARM\n",
            "Please guess a number between 1 and 100: 60\n",
            "COLDER\n",
            "Please guess a number between 1 and 100: 40\n",
            "WARMER\n",
            "Please guess a number between 1 and 100: 35\n",
            "COLDER\n",
            "Please guess a number between 1 and 100: 45\n",
            "WARMER\n",
            "Please guess a number between 1 and 100: 46\n",
            "COLDER\n",
            "Please guess a number between 1 and 100: 44\n",
            "WARMER\n",
            "Please guess a number between 1 and 100: 43\n",
            "WARMER\n",
            "Please guess a number between 1 and 100: 42\n",
            "\n",
            "Congratulation, you guessed it in 9 guesses\n"
          ],
          "name": "stdout"
        }
      ]
    }
  ]
}